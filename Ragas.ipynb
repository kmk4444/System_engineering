{
  "nbformat": 4,
  "nbformat_minor": 0,
  "metadata": {
    "colab": {
      "provenance": [],
      "authorship_tag": "ABX9TyNhBcgMrLsxSNwoghpI524O",
      "include_colab_link": true
    },
    "kernelspec": {
      "name": "python3",
      "display_name": "Python 3"
    },
    "language_info": {
      "name": "python"
    }
  },
  "cells": [
    {
      "cell_type": "markdown",
      "metadata": {
        "id": "view-in-github",
        "colab_type": "text"
      },
      "source": [
        "<a href=\"https://colab.research.google.com/github/kmk4444/System_engineering/blob/main/Ragas.ipynb\" target=\"_parent\"><img src=\"https://colab.research.google.com/assets/colab-badge.svg\" alt=\"Open In Colab\"/></a>"
      ]
    },
    {
      "cell_type": "code",
      "source": [
        "pip install langchain_openai ragas"
      ],
      "metadata": {
        "id": "INgzXSgXhoFj"
      },
      "execution_count": null,
      "outputs": []
    },
    {
      "cell_type": "code",
      "source": [],
      "metadata": {
        "colab": {
          "base_uri": "https://localhost:8080/"
        },
        "id": "vdtjT1J2ioZe",
        "outputId": "a2ccf520-8f1d-4f17-8858-786854a90ac2"
      },
      "execution_count": 5,
      "outputs": [
        {
          "output_type": "stream",
          "name": "stdout",
          "text": [
            "None\n"
          ]
        }
      ]
    },
    {
      "cell_type": "code",
      "execution_count": 8,
      "metadata": {
        "id": "JGXSO2nyQtKI"
      },
      "outputs": [],
      "source": []
    },
    {
      "cell_type": "code",
      "source": [
        "import os\n",
        "from langchain_openai import ChatOpenAI\n",
        "from ragas import evaluate, EvaluationDataset\n",
        "from ragas.metrics import AnswerRelevancy, Faithfulness, FactualCorrectness, AnswerCorrectness\n",
        "from ragas.llms import LangchainLLMWrapper\n",
        "\n",
        "# OpenAI API Anahtarını Ayarla\n",
        "os.environ[\"OPENAI_API_KEY\"] = \"\"\n",
        "\n",
        "# LLM Modelini Başlat\n",
        "llm = ChatOpenAI(model=\"gpt-4o\")  # GPT-4o değerlendirme için kullanılacak\n",
        "evaluator_llm = LangchainLLMWrapper(llm)\n",
        "\n",
        "# Sorular\n",
        "questions = [\n",
        "    \"Sistem mühendisliği nedir ve temel amacı nedir?\",\n",
        "    \"V-Model (V-Şeması) nedir ve hangi aşamaları içerir?\",\n",
        "    \"Sistem gereksinimleri ile kullanıcı gereksinimleri arasındaki fark nedir?\",\n",
        "    \"İhtiyaç analizi neden önemlidir?\",\n",
        "    \"Trade-off analizi nedir ve neden yapılır?\"\n",
        "]\n",
        "\n",
        "# ChatGPT-4o'nun Referans Cevapları\n",
        "reference_answers = [\n",
        "    \"Sistem mühendisliği, karmaşık sistemlerin tasarım, geliştirme, entegrasyon ve yaşam döngüsü yönetimiyle ilgilenen disiplinler arası bir alanıdır. Temel amacı, sistemleri en verimli şekilde tasarlamak, sürekliliğini sağlamak ve uçtan uca yönetmektir.\",\n",
        "    \"V-Model, sistem veya yazılım geliştirme yaşam döngüsünü tanımlamak için kullanılan bir modeldir. Sol kolunda gereksinim analizi ve tasarım faaliyetleri, sağ kolunda ise test ve doğrulama faaliyetleri bulunur. Ortada entegrasyon aşaması yer alır ve süreç, gereksinimlerden doğrulamaya kadar sistematik bir biçimde ilerler.\",\n",
        "    \"Sistem gereksinimleri, bir sistemin teknik ve işlevsel niteliklerini tanımlar ve tasarım ekibi tarafından anlaşılması gereken ayrıntıları içerir. Kullanıcı gereksinimleri ise sistemin son kullanıcı tarafından nasıl kullanılacağını, hangi amaçlara hizmet etmesi gerektiğini ve kullanıcı deneyimi ile ilgili beklentileri belirtir.\",\n",
        "    \"İhtiyaç analizi, sistemin doğru şekilde tasarlanabilmesi için tüm paydaşların taleplerini ve beklentilerini detaylı biçimde anlamayı amaçlar. Yanlış veya eksik gereksinimler projede gecikmelere, maliyet artışlarına ve hatta sistemin istenilen performansa ulaşamamasına neden olabilir.\",\n",
        "    \"Trade-off analizi, bir sistemin tasarımı sırasında birbiriyle çelişen gereksinim veya kısıtlar arasında optimal dengeyi bulmaya çalışmaktır. Örneğin performans ile maliyet, hız ile enerji tüketimi, kalite ile süre gibi faktörler arasında seçim yapılması gerektiğinde trade-off analizi kullanılır.\"\n",
        "]\n",
        "\n",
        "# DeepSeek-r1'in Verdiği Cevaplar\n",
        "deepseek_answers = [\n",
        "    \"Sistem mühendisliği, kullanıcıların ihtiyaçlarını karşılayacak şekilde tasarlanmış bir sistemin oluşturulmasını sağlayan disiplindir. Sistem mühendisliğinin temel amacı ise verimli, güvenilir ve maliyet etkin çözümler üretmek için disiplinler arası bir yaklaşımla işbirliğini sağlamak ve süreçleri optimize etmektir.\",\n",
        "    \"V-Model, sistemin geliştirilme sürecinde kullanılan bir metodolojidir. Dokuz aşamadan oluşur ve süreç boyunca iteratif olarak uygulanabilir. Hataların erken tespiti ve maliyetleri düşürmek için sıkça tercih edilir.\",\n",
        "    \"Sistemin gereksinimleri genellikle teknoloji, performans, güvenilirlik gibi teknik faktörleri kapsarken, kullanıcı gereksinimleri ise endüstriyel uygulamalar için gerekli işlevler, arayüz özellikleri veya kullanım kolaylığı gibi konuları içerir.\",\n",
        "    \"İhtiyaç analizi, kullanıcı beklentilerini anlamak, proje ekibinin işbirliğini artırmak ve kaynakları etkin kullanmak için kritik bir süreçtir. İyi yapılan bir ihtiyaç analizi, sistemin başarılı olma olasılığını artırır.\",\n",
        "    \"Trade-off analizi, farklı alternatifler arasından en iyi seçeneği belirlemek için kullanılan bir yöntemdir. Performans, maliyet, güvenlik gibi faktörleri dengeler ve proje başarısını artırır.\"\n",
        "]\n",
        "\n",
        "# Değerlendirme için veri setini oluştur\n",
        "dataset = []\n",
        "for question, deepseek_response, reference in zip(questions, deepseek_answers, reference_answers):\n",
        "    dataset.append(\n",
        "        {\n",
        "            \"user_input\": question,\n",
        "            \"retrieved_contexts\": [],  # Bağlam kullanmadığımız için boş liste\n",
        "            \"response\": deepseek_response,\n",
        "            \"reference\": reference\n",
        "        }\n",
        "    )\n",
        "\n",
        "# Dataset'i Ragas ile formatla\n",
        "evaluation_dataset = EvaluationDataset.from_list(dataset)\n",
        "\n",
        "# Ragas değerlendirmesini gerçekleştir\n",
        "result = evaluate(\n",
        "    dataset=evaluation_dataset,\n",
        "    metrics=[\n",
        "        AnswerRelevancy(),  # Cevap soruya uygun mu?\n",
        "        Faithfulness(),  # Cevap uydurma içeriyor mu?\n",
        "        FactualCorrectness(),  # Cevap teknik olarak doğru mu?\n",
        "        AnswerCorrectness()  # Cevap dilbilgisi ve mantık açısından doğru mu?\n",
        "    ],\n",
        "    llm=evaluator_llm\n",
        ")\n",
        "\n",
        "# Sonuçları yazdır\n",
        "print(\"\\n--- DeepSeek-r1 Değerlendirme Sonuçları (ChatGPT-4o Referans Olarak Kullanıldı) ---\\n\")\n",
        "print(result)\n"
      ],
      "metadata": {
        "id": "fP4yEuJ5iV1d"
      },
      "execution_count": null,
      "outputs": []
    },
    {
      "cell_type": "code",
      "source": [],
      "metadata": {
        "id": "LjsGQ0Nbk8QI"
      },
      "execution_count": 11,
      "outputs": []
    },
    {
      "cell_type": "code",
      "source": [],
      "metadata": {
        "id": "jgjZGHHTmlLW"
      },
      "execution_count": null,
      "outputs": []
    }
  ]
}