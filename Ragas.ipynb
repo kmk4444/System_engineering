{
  "nbformat": 4,
  "nbformat_minor": 0,
  "metadata": {
    "colab": {
      "provenance": [],
      "authorship_tag": "ABX9TyNU3m2OpfsmLzNQKjgQYmiv",
      "include_colab_link": true
    },
    "kernelspec": {
      "name": "python3",
      "display_name": "Python 3"
    },
    "language_info": {
      "name": "python"
    },
    "widgets": {
      "application/vnd.jupyter.widget-state+json": {
        "5c523e3ea18e465a87f10ef2a7e48422": {
          "model_module": "@jupyter-widgets/controls",
          "model_name": "HBoxModel",
          "model_module_version": "1.5.0",
          "state": {
            "_dom_classes": [],
            "_model_module": "@jupyter-widgets/controls",
            "_model_module_version": "1.5.0",
            "_model_name": "HBoxModel",
            "_view_count": null,
            "_view_module": "@jupyter-widgets/controls",
            "_view_module_version": "1.5.0",
            "_view_name": "HBoxView",
            "box_style": "",
            "children": [
              "IPY_MODEL_a6cde23d03804053a472597b647558f1",
              "IPY_MODEL_a7ccd10431ff46f8a8238a6cfa1e3fed",
              "IPY_MODEL_25960870467849a7b62a23212ea62b86"
            ],
            "layout": "IPY_MODEL_fff2b236b08541d88e82e833f10c5c72"
          }
        },
        "a6cde23d03804053a472597b647558f1": {
          "model_module": "@jupyter-widgets/controls",
          "model_name": "HTMLModel",
          "model_module_version": "1.5.0",
          "state": {
            "_dom_classes": [],
            "_model_module": "@jupyter-widgets/controls",
            "_model_module_version": "1.5.0",
            "_model_name": "HTMLModel",
            "_view_count": null,
            "_view_module": "@jupyter-widgets/controls",
            "_view_module_version": "1.5.0",
            "_view_name": "HTMLView",
            "description": "",
            "description_tooltip": null,
            "layout": "IPY_MODEL_62db9ea37a1340a29d5acbd20adfb2e0",
            "placeholder": "​",
            "style": "IPY_MODEL_7ec80675290b4290afc0abe34f326672",
            "value": "Evaluating: 100%"
          }
        },
        "a7ccd10431ff46f8a8238a6cfa1e3fed": {
          "model_module": "@jupyter-widgets/controls",
          "model_name": "FloatProgressModel",
          "model_module_version": "1.5.0",
          "state": {
            "_dom_classes": [],
            "_model_module": "@jupyter-widgets/controls",
            "_model_module_version": "1.5.0",
            "_model_name": "FloatProgressModel",
            "_view_count": null,
            "_view_module": "@jupyter-widgets/controls",
            "_view_module_version": "1.5.0",
            "_view_name": "ProgressView",
            "bar_style": "success",
            "description": "",
            "description_tooltip": null,
            "layout": "IPY_MODEL_2b5019ce45f64649819211e936559f88",
            "max": 200,
            "min": 0,
            "orientation": "horizontal",
            "style": "IPY_MODEL_62f0a97a5e0a49d1864e31f1d30b67ca",
            "value": 200
          }
        },
        "25960870467849a7b62a23212ea62b86": {
          "model_module": "@jupyter-widgets/controls",
          "model_name": "HTMLModel",
          "model_module_version": "1.5.0",
          "state": {
            "_dom_classes": [],
            "_model_module": "@jupyter-widgets/controls",
            "_model_module_version": "1.5.0",
            "_model_name": "HTMLModel",
            "_view_count": null,
            "_view_module": "@jupyter-widgets/controls",
            "_view_module_version": "1.5.0",
            "_view_name": "HTMLView",
            "description": "",
            "description_tooltip": null,
            "layout": "IPY_MODEL_d48addaf1cd540298bbe1d6125287106",
            "placeholder": "​",
            "style": "IPY_MODEL_c7cd8112bdc24176aa26761e1d2a4fc3",
            "value": " 200/200 [03:45&lt;00:00,  2.58s/it]"
          }
        },
        "fff2b236b08541d88e82e833f10c5c72": {
          "model_module": "@jupyter-widgets/base",
          "model_name": "LayoutModel",
          "model_module_version": "1.2.0",
          "state": {
            "_model_module": "@jupyter-widgets/base",
            "_model_module_version": "1.2.0",
            "_model_name": "LayoutModel",
            "_view_count": null,
            "_view_module": "@jupyter-widgets/base",
            "_view_module_version": "1.2.0",
            "_view_name": "LayoutView",
            "align_content": null,
            "align_items": null,
            "align_self": null,
            "border": null,
            "bottom": null,
            "display": null,
            "flex": null,
            "flex_flow": null,
            "grid_area": null,
            "grid_auto_columns": null,
            "grid_auto_flow": null,
            "grid_auto_rows": null,
            "grid_column": null,
            "grid_gap": null,
            "grid_row": null,
            "grid_template_areas": null,
            "grid_template_columns": null,
            "grid_template_rows": null,
            "height": null,
            "justify_content": null,
            "justify_items": null,
            "left": null,
            "margin": null,
            "max_height": null,
            "max_width": null,
            "min_height": null,
            "min_width": null,
            "object_fit": null,
            "object_position": null,
            "order": null,
            "overflow": null,
            "overflow_x": null,
            "overflow_y": null,
            "padding": null,
            "right": null,
            "top": null,
            "visibility": null,
            "width": null
          }
        },
        "62db9ea37a1340a29d5acbd20adfb2e0": {
          "model_module": "@jupyter-widgets/base",
          "model_name": "LayoutModel",
          "model_module_version": "1.2.0",
          "state": {
            "_model_module": "@jupyter-widgets/base",
            "_model_module_version": "1.2.0",
            "_model_name": "LayoutModel",
            "_view_count": null,
            "_view_module": "@jupyter-widgets/base",
            "_view_module_version": "1.2.0",
            "_view_name": "LayoutView",
            "align_content": null,
            "align_items": null,
            "align_self": null,
            "border": null,
            "bottom": null,
            "display": null,
            "flex": null,
            "flex_flow": null,
            "grid_area": null,
            "grid_auto_columns": null,
            "grid_auto_flow": null,
            "grid_auto_rows": null,
            "grid_column": null,
            "grid_gap": null,
            "grid_row": null,
            "grid_template_areas": null,
            "grid_template_columns": null,
            "grid_template_rows": null,
            "height": null,
            "justify_content": null,
            "justify_items": null,
            "left": null,
            "margin": null,
            "max_height": null,
            "max_width": null,
            "min_height": null,
            "min_width": null,
            "object_fit": null,
            "object_position": null,
            "order": null,
            "overflow": null,
            "overflow_x": null,
            "overflow_y": null,
            "padding": null,
            "right": null,
            "top": null,
            "visibility": null,
            "width": null
          }
        },
        "7ec80675290b4290afc0abe34f326672": {
          "model_module": "@jupyter-widgets/controls",
          "model_name": "DescriptionStyleModel",
          "model_module_version": "1.5.0",
          "state": {
            "_model_module": "@jupyter-widgets/controls",
            "_model_module_version": "1.5.0",
            "_model_name": "DescriptionStyleModel",
            "_view_count": null,
            "_view_module": "@jupyter-widgets/base",
            "_view_module_version": "1.2.0",
            "_view_name": "StyleView",
            "description_width": ""
          }
        },
        "2b5019ce45f64649819211e936559f88": {
          "model_module": "@jupyter-widgets/base",
          "model_name": "LayoutModel",
          "model_module_version": "1.2.0",
          "state": {
            "_model_module": "@jupyter-widgets/base",
            "_model_module_version": "1.2.0",
            "_model_name": "LayoutModel",
            "_view_count": null,
            "_view_module": "@jupyter-widgets/base",
            "_view_module_version": "1.2.0",
            "_view_name": "LayoutView",
            "align_content": null,
            "align_items": null,
            "align_self": null,
            "border": null,
            "bottom": null,
            "display": null,
            "flex": null,
            "flex_flow": null,
            "grid_area": null,
            "grid_auto_columns": null,
            "grid_auto_flow": null,
            "grid_auto_rows": null,
            "grid_column": null,
            "grid_gap": null,
            "grid_row": null,
            "grid_template_areas": null,
            "grid_template_columns": null,
            "grid_template_rows": null,
            "height": null,
            "justify_content": null,
            "justify_items": null,
            "left": null,
            "margin": null,
            "max_height": null,
            "max_width": null,
            "min_height": null,
            "min_width": null,
            "object_fit": null,
            "object_position": null,
            "order": null,
            "overflow": null,
            "overflow_x": null,
            "overflow_y": null,
            "padding": null,
            "right": null,
            "top": null,
            "visibility": null,
            "width": null
          }
        },
        "62f0a97a5e0a49d1864e31f1d30b67ca": {
          "model_module": "@jupyter-widgets/controls",
          "model_name": "ProgressStyleModel",
          "model_module_version": "1.5.0",
          "state": {
            "_model_module": "@jupyter-widgets/controls",
            "_model_module_version": "1.5.0",
            "_model_name": "ProgressStyleModel",
            "_view_count": null,
            "_view_module": "@jupyter-widgets/base",
            "_view_module_version": "1.2.0",
            "_view_name": "StyleView",
            "bar_color": null,
            "description_width": ""
          }
        },
        "d48addaf1cd540298bbe1d6125287106": {
          "model_module": "@jupyter-widgets/base",
          "model_name": "LayoutModel",
          "model_module_version": "1.2.0",
          "state": {
            "_model_module": "@jupyter-widgets/base",
            "_model_module_version": "1.2.0",
            "_model_name": "LayoutModel",
            "_view_count": null,
            "_view_module": "@jupyter-widgets/base",
            "_view_module_version": "1.2.0",
            "_view_name": "LayoutView",
            "align_content": null,
            "align_items": null,
            "align_self": null,
            "border": null,
            "bottom": null,
            "display": null,
            "flex": null,
            "flex_flow": null,
            "grid_area": null,
            "grid_auto_columns": null,
            "grid_auto_flow": null,
            "grid_auto_rows": null,
            "grid_column": null,
            "grid_gap": null,
            "grid_row": null,
            "grid_template_areas": null,
            "grid_template_columns": null,
            "grid_template_rows": null,
            "height": null,
            "justify_content": null,
            "justify_items": null,
            "left": null,
            "margin": null,
            "max_height": null,
            "max_width": null,
            "min_height": null,
            "min_width": null,
            "object_fit": null,
            "object_position": null,
            "order": null,
            "overflow": null,
            "overflow_x": null,
            "overflow_y": null,
            "padding": null,
            "right": null,
            "top": null,
            "visibility": null,
            "width": null
          }
        },
        "c7cd8112bdc24176aa26761e1d2a4fc3": {
          "model_module": "@jupyter-widgets/controls",
          "model_name": "DescriptionStyleModel",
          "model_module_version": "1.5.0",
          "state": {
            "_model_module": "@jupyter-widgets/controls",
            "_model_module_version": "1.5.0",
            "_model_name": "DescriptionStyleModel",
            "_view_count": null,
            "_view_module": "@jupyter-widgets/base",
            "_view_module_version": "1.2.0",
            "_view_name": "StyleView",
            "description_width": ""
          }
        }
      }
    }
  },
  "cells": [
    {
      "cell_type": "markdown",
      "metadata": {
        "id": "view-in-github",
        "colab_type": "text"
      },
      "source": [
        "<a href=\"https://colab.research.google.com/github/kmk4444/System_engineering/blob/main/Ragas.ipynb\" target=\"_parent\"><img src=\"https://colab.research.google.com/assets/colab-badge.svg\" alt=\"Open In Colab\"/></a>"
      ]
    },
    {
      "cell_type": "markdown",
      "source": [
        "https://docs.ragas.io/en/v0.1.21/concepts/metrics/answer_relevance.html"
      ],
      "metadata": {
        "id": "X4xrumCCkYaH"
      }
    },
    {
      "cell_type": "code",
      "source": [
        "pip install langchain_openai ragas"
      ],
      "metadata": {
        "id": "INgzXSgXhoFj",
        "colab": {
          "base_uri": "https://localhost:8080/"
        },
        "outputId": "f5f1b4aa-335e-4480-9dd5-49c02a9c47c3"
      },
      "execution_count": 1,
      "outputs": [
        {
          "output_type": "stream",
          "name": "stdout",
          "text": [
            "      Successfully uninstalled langchain-0.3.20\n",
            "Successfully installed appdirs-1.4.4 dataclasses-json-0.6.7 datasets-3.4.1 dill-0.3.8 diskcache-5.6.3 httpx-sse-0.4.0 langchain-0.3.21 langchain-community-0.3.20 langchain-text-splitters-0.3.7 langchain_openai-0.3.9 marshmallow-3.26.1 multiprocess-0.70.16 mypy-extensions-1.0.0 openai-1.66.5 pydantic-settings-2.8.1 python-dotenv-1.0.1 ragas-0.2.14 tiktoken-0.9.0 typing-inspect-0.9.0 xxhash-3.5.0\n"
          ]
        }
      ]
    },
    {
      "cell_type": "code",
      "source": [
        "import os\n",
        "import pandas as pd\n",
        "from langchain_openai import ChatOpenAI\n",
        "from ragas import evaluate, EvaluationDataset\n",
        "from ragas.metrics import AnswerRelevancy, Faithfulness, FactualCorrectness, AnswerCorrectness\n",
        "from ragas.llms import LangchainLLMWrapper\n",
        "\n",
        "# OpenAI API Anahtarını Ayarla\n",
        "os.environ[\"OPENAI_API_KEY\"] = \"-proj----\"\n",
        "\n",
        "# Excel dosyasını oku (B sütununda sorular, C sütununda referans cevaplar, D sütununda deepseek-r1 cevapları)\n",
        "df = pd.read_excel(\"/content/Data karşılaştırma.xlsx\")  # Dosya yolunuza göre güncelleyiniz\n",
        "\n",
        "# Kolonları uygun değişkenlere alalım\n",
        "questions = df.iloc[:, 1].tolist()\n",
        "reference_answers = df.iloc[:, 2].tolist()\n",
        "deepseek_answers = df.iloc[:, 3].tolist()\n",
        "\n",
        "# LLM Modelini Başlat\n",
        "llm = ChatOpenAI(model=\"gpt-4o\")  # GPT-4o değerlendirme için kullanılacak\n",
        "evaluator_llm = LangchainLLMWrapper(llm)\n",
        "\n",
        "# Değerlendirme için veri setini oluştur\n",
        "dataset = []\n",
        "for question, deepseek_response, reference in zip(questions, deepseek_answers, reference_answers):\n",
        "    dataset.append(\n",
        "        {\n",
        "            \"user_input\": question,\n",
        "            \"retrieved_contexts\": [],  # Bağlam kullanmadığımız için boş liste\n",
        "            \"response\": deepseek_response,\n",
        "            \"reference\": reference\n",
        "        }\n",
        "    )\n",
        "\n",
        "# Dataset'i Ragas ile formatla\n",
        "evaluation_dataset = EvaluationDataset.from_list(dataset)\n",
        "\n",
        "# Ragas değerlendirmesini gerçekleştir\n",
        "result = evaluate(\n",
        "    dataset=evaluation_dataset,\n",
        "    metrics=[\n",
        "        AnswerRelevancy(),\n",
        "        Faithfulness(),\n",
        "        FactualCorrectness(),\n",
        "        AnswerCorrectness()\n",
        "    ],\n",
        "    llm=evaluator_llm\n",
        ")\n",
        "\n",
        "# Sonuçları yazdır\n",
        "print(\"\\n--- DeepSeek-r1 Değerlendirme Sonuçları (ChatGPT-4o Referans Olarak Kullanıldı) ---\\n\")\n",
        "print(result)\n"
      ],
      "metadata": {
        "colab": {
          "base_uri": "https://localhost:8080/",
          "height": 120,
          "referenced_widgets": [
            "5c523e3ea18e465a87f10ef2a7e48422",
            "a6cde23d03804053a472597b647558f1",
            "a7ccd10431ff46f8a8238a6cfa1e3fed",
            "25960870467849a7b62a23212ea62b86",
            "fff2b236b08541d88e82e833f10c5c72",
            "62db9ea37a1340a29d5acbd20adfb2e0",
            "7ec80675290b4290afc0abe34f326672",
            "2b5019ce45f64649819211e936559f88",
            "62f0a97a5e0a49d1864e31f1d30b67ca",
            "d48addaf1cd540298bbe1d6125287106",
            "c7cd8112bdc24176aa26761e1d2a4fc3"
          ]
        },
        "id": "5sgd1i06gheB",
        "outputId": "792e02e1-a1f6-4003-e6ef-229e4f219406"
      },
      "execution_count": 3,
      "outputs": [
        {
          "output_type": "display_data",
          "data": {
            "text/plain": [
              "Evaluating:   0%|          | 0/200 [00:00<?, ?it/s]"
            ],
            "application/vnd.jupyter.widget-view+json": {
              "version_major": 2,
              "version_minor": 0,
              "model_id": "5c523e3ea18e465a87f10ef2a7e48422"
            }
          },
          "metadata": {}
        },
        {
          "output_type": "stream",
          "name": "stdout",
          "text": [
            "\n",
            "--- DeepSeek-r1 Değerlendirme Sonuçları (ChatGPT-4o Referans Olarak Kullanıldı) ---\n",
            "\n",
            "{'answer_relevancy': 0.8581, 'faithfulness': 0.0339, 'factual_correctness(mode=f1)': 0.2758, 'answer_correctness': 0.3510}\n"
          ]
        }
      ]
    },
    {
      "cell_type": "code",
      "source": [
        "# İlk 3 elemanı yazdırma\n",
        "print(\"Questions - İlk 3 Satır:\", questions[:3])\n",
        "print(\"Reference Answers - İlk 3 Satır:\", reference_answers[:3])\n",
        "print(\"DeepSeek Answers - İlk 3 Satır:\", deepseek_answers[:3])\n",
        "\n",
        "# Son 3 elemanı yazdırma\n",
        "print(\"\\nQuestions - Son 3 Satır:\", questions[-3:])\n",
        "print(\"Reference Answers - Son 3 Satır:\", reference_answers[-3:])\n",
        "print(\"DeepSeek Answers - Son 3 Satır:\", deepseek_answers[-3:])\n"
      ],
      "metadata": {
        "id": "LjsGQ0Nbk8QI",
        "colab": {
          "base_uri": "https://localhost:8080/"
        },
        "outputId": "b7381f2f-9b70-4d13-e54b-4edef07f8749"
      },
      "execution_count": 4,
      "outputs": [
        {
          "output_type": "stream",
          "name": "stdout",
          "text": [
            "Questions - İlk 3 Satır: ['Sistem mühendisliği nedir ve temel amacı nedir?', 'V-Model (V-Şeması) nedir ve hangi aşamaları içerir?', '“Sistem gereksinimleri” ile “kullanıcı gereksinimleri” arasındaki fark nedir?']\n",
            "Reference Answers - İlk 3 Satır: ['Sistem mühendisliği, karmaşık sistemlerin tasarım, geliştirme, entegrasyon ve yaşam döngüsü yönetimiyle ilgilenen disiplinler arası bir alanıdır. Temel amacı, sistemleri en verimli şekilde tasarlamak, sürekliliğini sağlamak ve uçtan uca yönetmektir.', 'V-Model, sistem veya yazılım geliştirme yaşam döngüsünü tanımlamak için kullanılan bir modeldir. Sol kolunda gereksinim analizi ve tasarım faaliyetleri, sağ kolunda ise test ve doğrulama faaliyetleri bulunur. Ortada entegrasyon aşaması yer alır ve süreç, gereksinimlerden doğrulamaya kadar sistematik bir biçimde ilerler.', 'Sistem gereksinimleri, bir sistemin teknik ve işlevsel niteliklerini tanımlar ve tasarım ekibi tarafından anlaşılması gereken ayrıntıları içerir. Kullanıcı gereksinimleri ise sistemin son kullanıcı tarafından nasıl kullanılacağını, hangi amaçlara hizmet etmesi gerektiğini ve kullanıcı deneyimi ile ilgili beklentileri belirtir. Sistem gereksinimleri çoğunlukla mühendisler içindir, kullanıcı gereksinimleri ise iş birimleri ve son kullanıcılar için formüle edilir.']\n",
            "DeepSeek Answers - İlk 3 Satır: ['Sistem mühendisliği, kullanıcıların ihtiyaçlarını karşılayacak şekilde tasarlanmış bir sistemin oluşturulmasını sağlayan disiplindir. Bu disipline göre sistemlerin gereksinimleri belirlenir, tasarım yapılır, entegrasyon sağlanır ve bakımı da sağlanarak sistemin başarılı bir şekilde çalışması hedeflenir. Sistem mühendisliğinin temel amacı ise verimli, güvenilir ve maliyet etkin çözümler üretmek için disiplinler arası bir yaklaşımla işbirliğini sağlamak ve süreçleri optimize etmektir. Bu sayede karmaşık sistemlerin başarılı bir şekilde hayata geçirilmesi ve kullanıcılara faydalı hizmet sunulması amaçlanmaktadır. \\nBu doğrultuda, sistem mühendisliği uygulamalarında genellikle proje planlaması yapma, gereksinim analizi, tasarım, entegrasyon, testlama ve bakım gibi adımlar yer alır. Ayrıca, farklı disiplinerlerden gelen uzmanlar arasında etkili iletişim ve koordinasyon sağlanmalıdır. Bu sayede, projenin her aşamasında tutarlılık ve kalite korunabilir. Sisteme Entegre Edilmiş Sistem Analitiği (ISE) gibi araçlarla de bu sürecin daha kapsamlı bir şekilde yönetilebilmesi mümkün olur. Son olarak, sürekli öğrenmeyi teşvik etmek ve ekip içi iletişimi güçlendirmek de sistem mühendisliğinde önemli rol oynar. Bu sayede, sektörde yenilikçi çözümlerin ortaya çıkması ve rekabet avantajının elde edilmesi sağlanır. Bu nedenle, sistem mühendisliği sadece teknik becerilerin bir toplamı değil aynı zamanda disiplinlerarası bir bakış açısının ürünüdür. Bu disiplinin uygulanması sayesinde, karmaşık sistemlerin başarıyla hayata geçirilmesi ve uzun ömrü boyunca sürdürülebilir bir şekilde işletilmesi mümkün hale gelir. Bu nedenle, sistem mühendisliği büyük önem taşır ve birçok alanda uygulama alanı bulmuştür. Bu sayeden, sistem mühendisliği yalnızca teknolojik ilerlemeyi desteklemekle kalmaz, aynı zamanda insan faktörüne ve çevresel etkilere de dikkat ederek daha iyi bir dünya yaratmaya katkıda bulunur. Bu düşünceler, sistem mühendisliğinin önemi hakkında önemli bilgiler sağlar.  \\nSonuç olarak, sistem mühendisliği, karmaşık sistemlerin tasarımı ve yönetimi konusunda uzmanlaşmış bir disiplidir. Bu disilin amacı, kullanıcıların ihtiyaçlarına uygun çözümleri üretmek, sistemi güvenli ve ekonomik bir şekilde işletmek, sürekli iyileştirme yapmak ve böylece kullanıcıların memnuniyetini artırarak başarısını sağlamaktadır.', \"The V-Model (V Şekli) generally comprises nine stages:\\n1. Sistem Gereklilikleri Tanımı\\n2. Süreçlerin Belirlenmesi\\n3. Modellerin Oluşturma\\n4. Test Senaryolarının Planlanması\\n5. Uygulama Geliştirme\\n6. Üzerinde Deneme ve Doğrulama\\n7. Kapsülleme ve Yayılım\\n8. Ekipmanların Entegrasyonu\\n9. İşletmede Kullanım\\nBu aşamalar genellikle belirli bir düzeyi takip ederken de bazı projelerde farklılikler olabilir. Bu nedenle her proje için bu aşamaların detaylı olarak incelenmesi önemlidir. Ayrıca, süreçler iteratif şekilde uygulanabilir ve gerektiğinde tekrarlanabilir. Bu sayede sistem daha kaliteli hale getirilebilir ve hatalar erken aşamasında tespit edilip düzeltilmiş olur. Bu da yazılım geliştirme sürecini artırır ve maliyetleri azaltır. Bu nedenlerle, V-Model birçok sektörde tercih edilen bir yöntemdir. Ancak, uygulamanın karmaşıklığına bağlı olarak bazı farklılık yaşanabilir. Bu durumda, süreci yönetmek için disiplinerlik ve planlama büyük önem taşır. Son olarak, ekip çalışması ve sürekli iletişim de V-Model'de başarılı olmak için önemli faktördür. Bu sayede, hedeflere ulaşmak ve ürünün kalitesini artırmak mümkün olacaktır. Bu bilgiler, yeni başlayanlar için değerli ipuçları sunmaktadır. Bu sayede, onlar daha iyi anlayabilir ve sistem mühendisliği prensiplerine uygun çalışmalar yapabilirler. Bu da onların kariyerlerinde ilerlemelerine yardımcı olacaklardır. \", 'Sistemin gereksinimleri ve kullanıcı gereksinimleri arasında temel farklılık şemada yer alır. Sistem gereksinimleri genellikle teknoloji, performans, güvenilirlik gibi teknik faktörleri kapsarken, kullanıcı gereksinimleri ise endüstriyel uygulamalar için gerekli işlevler, arayüz özellikleri veya kullanım kolaylığı gibi konuları içerir. Kullanıcı gereksinimleri daha çok insan ihtiyaçlarını karşılamak amacıyla belirlenirken sistem gereksinimleri teknolojik olarak daha detaylıdır. Bu nedenle sistemin tasarımında hem kullanıcıların beklentilerini göz önünde bulundurmak hem de sistemi verimli bir şekilde çalıştırmak önemlidir. Bu süreçte doğru bir şekilde gereksinimler tanımlanmalı ve bu gereksinimler net bir şekilde belirlenmelidir. Ayrıca, gereksinimler sürekli olarak güncellenmeli ve doğrulanmalıdır. Bu sayede proje hedeflerine uygun çözümler geliştirilebilir. Sisteme en iyi uyum sağlayan çözüm bulunabilirse projenin başarılı olması sağlanır. Bu da sektörel kriterlere göre değişiklik gösterebilir. Ancak genel prensip olarak, gereksinimler net olmalı, anlaşılır olmalı ve tutarlı olmalıdır. Bu sayede ekip üyeleri arasında uyumluluk sağlanarak etkili bir çalışma ortamı oluşturulur. Sonuç olarak, sistemin tasarımı kullanıcıları memnuniyetine ve proje hedeflerine uygun olmak için gereksinimler doğru bir şekilde yönetilmelidir. Bu süreçte, gereksinimlerin doğru bir şekilde tanımlanması ve uygulanması büyük önem taşır. Bu sayede sistemin etkinliği artırılabilir ve olası hataların önüne geçilerek kaliteli bir ürün elde edilir. Bu durum, hem kullanıcının memnunluğunu arttırır hem de sistemin uzun vadede başarısını sağlar. Bu nedenle, sistem gereksinimlerinin doğru bir şekilde tanımlanması ve uygulanması son derece önemlidir. Bu süreçte, gereksinimlerin net bir şekilde ifade edilmesi, tüm paydaşlarla açık iletişim kurulması ve gereksinimlerin düzenli olarak takip edilmesi gerekmektedir. Bu sayede, sistemin tasarımı ve implementasyonu başarılı olabilir. Bu süreçte, gereksinimlerin doğru bir şekilde tanımlanması ve uygulanması, projenin başarıyla tamamlanmasını sağlayabilir. Bu nedenle, gereksinimlerin doğru bir şekilde yönetilmesi ve güncel tutulması büyük önem taşır.']\n",
            "\n",
            "Questions - Son 3 Satır: ['Kalite güvencesi (Quality Assurance) ve kalite kontrolü (Quality Control) arasındaki fark nedir?', 'Dijital ikiz (Digital Twin) konsepti nedir ve sistem mühendisliğinde nasıl kullanılır?', 'Gelecekte sistem mühendisliği alanındaki en önemli trendler neler olabilir?']\n",
            "Reference Answers - Son 3 Satır: ['Kalite güvencesi, üretim süreciyle ilgilenir ve süreçlerin doğru işleyerek kaliteli ürün çıkmasını hedefler (önleyici yaklaşım). Kalite kontrolü ise ortaya çıkan ürünü test ederek hataları tespit eder ve kabul ölçütlerine uygunluğunu doğrular (düzeltici yaklaşım). İkisi birlikte kullanıldığında, hem süreç kalitesi hem de çıktı kalitesi artar.', 'Dijital ikiz, fiziksel bir sistemin sanal modelidir. Sensör verileriyle gerçek zamanlı olarak beslenerek, sistemin davranışını yansıtır. Sistem mühendisliğinde bakım, performans izleme, arıza tahmini ve tasarım optimizasyonu gibi alanlarda kullanılır. Örneğin bir fabrikadaki makine için dijital ikiz oluşturularak arızalar önceden öngörülebilir.', 'Yapay zeka destekli otomasyon, dijital ikizler, otonom sistemler, sürdürülebilirlik odaklı tasarımlar, akıllı üretim (endüstri 4.0), blok zinciri tabanlı güvenlik çözümleri ve kuantum hesaplama entegrasyonu gibi konular gelecekte sistem mühendisliğinde öne çıkması beklenen trendlerdir.']\n",
            "DeepSeek Answers - Son 3 Satır: ['Kalite güvenliği ve kalite kontrolleri farklı konseptlerdir. Kalite güvencesi, ürünlerin veya hizmetin belirli standartlara uygunluğunu sağlamak için yapılan önlemlere odaklanırken, kalite kontrolü ise üretim sürecinde ürünü izlemek ve gerektiğinde düzeltici önlemler almak için yapılır. Kalite güvencesi genellikle daha genel bir yaklaşımı ifade ederken, kalite kontrolü daha detaylı süreçleri kapsar. Bu nedenle, her iki depreşen de kaliteli olgunun sağlanması için önemlidir ama uygulanışları farklı olabilir. \\n\\nBu konuda daha fazla bilgiye ihtiyacınız var mı? Yordamım size nasıl yardımcı olabilirim? İsterseniz sorularınızı ekleyebilir ve daha detaylı bilgiler alabilirsiniz. Ayrıca, belirlenen dokümanlar ve önceki sohbetlerinizde elde ettiğiniz bilgilere dayanarak yanıtları veriyorum. Bu sayede doğru ve güvenilir bilgiler sunabiliyorum. Teşekkür ederiz! 😊\\n\\nEğer bu bilgileri kullanmak istiyor ve daha derinlemesine bilgi edinmek istiyorsanız lütfen diğer sorularınızı da ekleyin. Ben sizlerle paylaşacağım. Başka sorunuz yok mu? Öyleyse, elimden gelen en iyi yanıtları vermem için çalışıyorum. Teşekkür ederiz! 😊\\n\\nSorulamanız yoksa da diğer konuları ele almaya devam edebiliriz. Size faydalı olacaksa, istediğiniz konuyu belirleyebilirsiniz. Başka sorularınız varsa, bambaşka konulara geçebilirim. Teşekkür ederiz! 😊\\n\\nAyrıca, size daha fazla rehberlik etmek için bazı kaynaklar bulabilir ve paydaşlarınızla iletişimi güçlendirebilirsiniz. Eğer projelerinizde karşılaşılan zorluklar vardır, size danışmanlık sağlayabilirim. Teşekkür ederiz! 😊\\n\\nSon olarak, sistem mühendisliği prensipleri konusunda bilgilerinizi geliştirmek için düzenli olarak takip etmeniz önerilir. Son trendlerden haberdar olmak, yeni teknolojileri öğrenmek ve sektördeki yeniliklere uyum sağlamak önemli olacaktır. Teşekkür ederiz! 😊\\n\\nİlk adım, hedeflerinize karar vermektedir. Daha sonra, stratejiler geliştirerek ilerlersiniz. Her adımda başarısızlık kabul edilmediği için sürekli iyileştirme yapmalısınız. Sonuç olarak, başarılı bir sistem mühendisi olmak için disiplinli olmak, problem çözmeye odaklanmış olmak ve sürekli eğitim almak önemlidir. Teşekkür ederiz! 😊', 'Dijital ikiz, sistemlerin fiziksel veya dijital dünyada gerçek zamanlı olarak takip edilmesini sağlayan bir teknolojidir. Bu teknoloji sayesinde, sistemin farklı bileşenlerinin davranışlarını, verileri ve performasın real-time olarak izlenebilir hale gelir. Böylece, sistemde meydana gelen değişikliklere hızla müdahale edebilir ve sorunların erken tespit edilmesi sağlanabilir.\\n\\nSistem mühendisliğinde digital twin kullanımının avantajları arasında, sistemlerin tasarımı sırasında doğru kararlar alınmasını sağlamak, bakım süreçlerini optimize etmek, operasyonel verimliliği artırabilmek ve yenilikçi çözümlerin geliştirilmesi kolaylaşmaktadır. Bu sayede, daha güvenilir, ekonomik ve başarılı sistemler üretebilirsiniz. Ayrıca, dijital ikizin kullanılmasıyla sistemin gelecekteki ihtiyaçlarına da önceden hazırlık yapılabilir. Bu nedenle, dijital ikiz sistem mühendisliğinin önemli bir aracıdır ve birçok uygulama alanına uygulanabilir. \\n\\nSonuç olarak, dijital ikiz kavramı, sistemin çeşitli bileşenlerinden oluşan bir modeli olarak tanımlanır ve bu modeli kullanarak sistemin işlevselliğini, performansını ve güvenliğini değerlendirebilirsiniz. Bu sayede, daha iyi kararlar alabilir ve sistemin etkinliğini arttırabilirsiniz. Bu şekilde, sistem mühendisliğindeki çalışmalarınızda daha etkili ve başarılı olabilirsiniz. \\n\\nBu bilgiler, dijital ikizin sistem mühendisliğinde nasıl kullanılacağını anlamamıza yardımcı olacaktır. Bu sayede, sizlerde daha bilinçli kararlar verebilir ve projelerinizde başarıyı artırabilirsiniz. Bu konuda, uygulamanızı güncel tutun ve sürekli öğrenmeyi sürdürerek kariyerinizi güçlendirebilirsiniz. Good luck! 😊\\n', 'Gelecek için sistem mühendisliğinde öne çıkan en önemli tendanslar arasında yapay zeka ve makine öğrenmesi teknolojilerinin daha fazla entegre olması, esneklik ve modüler tasarımın ön planda gelmesi, veri analitiğinin artması ve bulut tabanlı uygulamaların yaygınlaşması yer almaktadır. Ayrıca enerji verimliliği ve sürdürülebilirlik de geleceğin anahtar tendanslarından biridir. Bu alanda sürekli olarak yeniliklerin ortaya çıkması ve işbirliğinin artırılması da önemlidir. Son olarak, güvenlik ve güvenilirlik konuları da sistem mühendisliğinde gelecek trendlerinde önem taşıyacaktır. Bu nedenle, bu alandaki uzmanların bu konular üzerine çalışmaya devam etmesi gerekmektedir. \\n\\nBu soruya verilen yanıtlar şunlardır:\\nnan\\n\\n###Answer###\\n\\nYapay zeka ve makine öğrenmesi teknolojileri sistem mühendisliğine entegrasyonla birlikte daha büyük rol oynayacak. Esneklik ve modüler tasarım anlayışı da gelecekteki temel unsurlardır. Veri analitiği sayesinde daha akıllı kararlar alınabilirken, bulut tabanlı hizmetler ise maliyetleri düşürerek verimliliği artırabilir. Enerji verimliliğine odaklanmak ve sürdürülebilirlik prensipleri benimsemek de gelecekteki trendlerden olacaktır. Yenilikçi çözümlerin keşfedilmesi ve işbirlikleri teşvik edilmesi de önemlidir. Güvenlik ve güvenilirlik konularında çalışmaların güçlenmesi gerekiyor. Bu sayede sistem mühendisliği alanında daha başarılı projeler geliştirilebilir. Bu nedenle, uzmanların bu konuda bilinçli olmalı ve sürekli olarak eğitimlerine yatırım yaparak seviyyelerini yükseltmelidirler. Bu şekilde, sistem mühendisliği alanı daha ilerlemeye ve teknolojinin daha etkin kullanılmasına olanak tanıyacak. </answer> </br>\\n\\n###Final Answer**\\nYapay zeka, makine öğrenmesi, esneklik, enerji verimliliği, bulut tabanlı uygulamalar, veri analitiği ve insan-makine etkileşimi gibi konular gelecekteki sistem mühendisliğinde önemli roller oynamaya devam edecektir. Bu alanlarda uzmanların bilgilenebilir olması ve sürekli olarak yeni teknolojilere adapte olmaları gerekecektir. Bu sayede sistem mühendisliği alanı daha ileriye gitmeye ve kullanıcı memnuniyetini artırarak sektörde öncülük edebilir.']\n"
          ]
        }
      ]
    },
    {
      "cell_type": "code",
      "source": [],
      "metadata": {
        "id": "jgjZGHHTmlLW"
      },
      "execution_count": null,
      "outputs": []
    }
  ]
}