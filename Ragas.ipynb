{
  "nbformat": 4,
  "nbformat_minor": 0,
  "metadata": {
    "colab": {
      "provenance": [],
      "mount_file_id": "https://github.com/kmk4444/System_engineering/blob/main/Ragas.ipynb",
      "authorship_tag": "ABX9TyO/xrqroNYHTnjMFd+NiP64",
      "include_colab_link": true
    },
    "kernelspec": {
      "name": "python3",
      "display_name": "Python 3"
    },
    "language_info": {
      "name": "python"
    },
    "widgets": {
      "application/vnd.jupyter.widget-state+json": {
        "c92422b583aa4010b1adb3060074bfd3": {
          "model_module": "@jupyter-widgets/controls",
          "model_name": "HBoxModel",
          "model_module_version": "1.5.0",
          "state": {
            "_dom_classes": [],
            "_model_module": "@jupyter-widgets/controls",
            "_model_module_version": "1.5.0",
            "_model_name": "HBoxModel",
            "_view_count": null,
            "_view_module": "@jupyter-widgets/controls",
            "_view_module_version": "1.5.0",
            "_view_name": "HBoxView",
            "box_style": "",
            "children": [
              "IPY_MODEL_d079541ded604e59913f6959a34e8e18",
              "IPY_MODEL_f11aa6a81aaf440292c3a6082c29e761",
              "IPY_MODEL_fa270b9b39b440b8885d01b51b717453"
            ],
            "layout": "IPY_MODEL_d780641b3dec468bb18e36b67f94ffe1"
          }
        },
        "d079541ded604e59913f6959a34e8e18": {
          "model_module": "@jupyter-widgets/controls",
          "model_name": "HTMLModel",
          "model_module_version": "1.5.0",
          "state": {
            "_dom_classes": [],
            "_model_module": "@jupyter-widgets/controls",
            "_model_module_version": "1.5.0",
            "_model_name": "HTMLModel",
            "_view_count": null,
            "_view_module": "@jupyter-widgets/controls",
            "_view_module_version": "1.5.0",
            "_view_name": "HTMLView",
            "description": "",
            "description_tooltip": null,
            "layout": "IPY_MODEL_02511d4fd6434eb9814a09c4cec7fe6f",
            "placeholder": "​",
            "style": "IPY_MODEL_320b3c4d4c5d48c1b18b29235f3e5c09",
            "value": "Evaluating: 100%"
          }
        },
        "f11aa6a81aaf440292c3a6082c29e761": {
          "model_module": "@jupyter-widgets/controls",
          "model_name": "FloatProgressModel",
          "model_module_version": "1.5.0",
          "state": {
            "_dom_classes": [],
            "_model_module": "@jupyter-widgets/controls",
            "_model_module_version": "1.5.0",
            "_model_name": "FloatProgressModel",
            "_view_count": null,
            "_view_module": "@jupyter-widgets/controls",
            "_view_module_version": "1.5.0",
            "_view_name": "ProgressView",
            "bar_style": "success",
            "description": "",
            "description_tooltip": null,
            "layout": "IPY_MODEL_9a4a6d99dcc243f582bb6c6d06a59cc5",
            "max": 200,
            "min": 0,
            "orientation": "horizontal",
            "style": "IPY_MODEL_060e1241eb844a399bb9ce5eddf48973",
            "value": 200
          }
        },
        "fa270b9b39b440b8885d01b51b717453": {
          "model_module": "@jupyter-widgets/controls",
          "model_name": "HTMLModel",
          "model_module_version": "1.5.0",
          "state": {
            "_dom_classes": [],
            "_model_module": "@jupyter-widgets/controls",
            "_model_module_version": "1.5.0",
            "_model_name": "HTMLModel",
            "_view_count": null,
            "_view_module": "@jupyter-widgets/controls",
            "_view_module_version": "1.5.0",
            "_view_name": "HTMLView",
            "description": "",
            "description_tooltip": null,
            "layout": "IPY_MODEL_6286e1a2a836483b8414069555ac2862",
            "placeholder": "​",
            "style": "IPY_MODEL_84e53e5b77c14e97b3dc0c4bfa52fdbf",
            "value": " 200/200 [01:56&lt;00:00,  1.33s/it]"
          }
        },
        "d780641b3dec468bb18e36b67f94ffe1": {
          "model_module": "@jupyter-widgets/base",
          "model_name": "LayoutModel",
          "model_module_version": "1.2.0",
          "state": {
            "_model_module": "@jupyter-widgets/base",
            "_model_module_version": "1.2.0",
            "_model_name": "LayoutModel",
            "_view_count": null,
            "_view_module": "@jupyter-widgets/base",
            "_view_module_version": "1.2.0",
            "_view_name": "LayoutView",
            "align_content": null,
            "align_items": null,
            "align_self": null,
            "border": null,
            "bottom": null,
            "display": null,
            "flex": null,
            "flex_flow": null,
            "grid_area": null,
            "grid_auto_columns": null,
            "grid_auto_flow": null,
            "grid_auto_rows": null,
            "grid_column": null,
            "grid_gap": null,
            "grid_row": null,
            "grid_template_areas": null,
            "grid_template_columns": null,
            "grid_template_rows": null,
            "height": null,
            "justify_content": null,
            "justify_items": null,
            "left": null,
            "margin": null,
            "max_height": null,
            "max_width": null,
            "min_height": null,
            "min_width": null,
            "object_fit": null,
            "object_position": null,
            "order": null,
            "overflow": null,
            "overflow_x": null,
            "overflow_y": null,
            "padding": null,
            "right": null,
            "top": null,
            "visibility": null,
            "width": null
          }
        },
        "02511d4fd6434eb9814a09c4cec7fe6f": {
          "model_module": "@jupyter-widgets/base",
          "model_name": "LayoutModel",
          "model_module_version": "1.2.0",
          "state": {
            "_model_module": "@jupyter-widgets/base",
            "_model_module_version": "1.2.0",
            "_model_name": "LayoutModel",
            "_view_count": null,
            "_view_module": "@jupyter-widgets/base",
            "_view_module_version": "1.2.0",
            "_view_name": "LayoutView",
            "align_content": null,
            "align_items": null,
            "align_self": null,
            "border": null,
            "bottom": null,
            "display": null,
            "flex": null,
            "flex_flow": null,
            "grid_area": null,
            "grid_auto_columns": null,
            "grid_auto_flow": null,
            "grid_auto_rows": null,
            "grid_column": null,
            "grid_gap": null,
            "grid_row": null,
            "grid_template_areas": null,
            "grid_template_columns": null,
            "grid_template_rows": null,
            "height": null,
            "justify_content": null,
            "justify_items": null,
            "left": null,
            "margin": null,
            "max_height": null,
            "max_width": null,
            "min_height": null,
            "min_width": null,
            "object_fit": null,
            "object_position": null,
            "order": null,
            "overflow": null,
            "overflow_x": null,
            "overflow_y": null,
            "padding": null,
            "right": null,
            "top": null,
            "visibility": null,
            "width": null
          }
        },
        "320b3c4d4c5d48c1b18b29235f3e5c09": {
          "model_module": "@jupyter-widgets/controls",
          "model_name": "DescriptionStyleModel",
          "model_module_version": "1.5.0",
          "state": {
            "_model_module": "@jupyter-widgets/controls",
            "_model_module_version": "1.5.0",
            "_model_name": "DescriptionStyleModel",
            "_view_count": null,
            "_view_module": "@jupyter-widgets/base",
            "_view_module_version": "1.2.0",
            "_view_name": "StyleView",
            "description_width": ""
          }
        },
        "9a4a6d99dcc243f582bb6c6d06a59cc5": {
          "model_module": "@jupyter-widgets/base",
          "model_name": "LayoutModel",
          "model_module_version": "1.2.0",
          "state": {
            "_model_module": "@jupyter-widgets/base",
            "_model_module_version": "1.2.0",
            "_model_name": "LayoutModel",
            "_view_count": null,
            "_view_module": "@jupyter-widgets/base",
            "_view_module_version": "1.2.0",
            "_view_name": "LayoutView",
            "align_content": null,
            "align_items": null,
            "align_self": null,
            "border": null,
            "bottom": null,
            "display": null,
            "flex": null,
            "flex_flow": null,
            "grid_area": null,
            "grid_auto_columns": null,
            "grid_auto_flow": null,
            "grid_auto_rows": null,
            "grid_column": null,
            "grid_gap": null,
            "grid_row": null,
            "grid_template_areas": null,
            "grid_template_columns": null,
            "grid_template_rows": null,
            "height": null,
            "justify_content": null,
            "justify_items": null,
            "left": null,
            "margin": null,
            "max_height": null,
            "max_width": null,
            "min_height": null,
            "min_width": null,
            "object_fit": null,
            "object_position": null,
            "order": null,
            "overflow": null,
            "overflow_x": null,
            "overflow_y": null,
            "padding": null,
            "right": null,
            "top": null,
            "visibility": null,
            "width": null
          }
        },
        "060e1241eb844a399bb9ce5eddf48973": {
          "model_module": "@jupyter-widgets/controls",
          "model_name": "ProgressStyleModel",
          "model_module_version": "1.5.0",
          "state": {
            "_model_module": "@jupyter-widgets/controls",
            "_model_module_version": "1.5.0",
            "_model_name": "ProgressStyleModel",
            "_view_count": null,
            "_view_module": "@jupyter-widgets/base",
            "_view_module_version": "1.2.0",
            "_view_name": "StyleView",
            "bar_color": null,
            "description_width": ""
          }
        },
        "6286e1a2a836483b8414069555ac2862": {
          "model_module": "@jupyter-widgets/base",
          "model_name": "LayoutModel",
          "model_module_version": "1.2.0",
          "state": {
            "_model_module": "@jupyter-widgets/base",
            "_model_module_version": "1.2.0",
            "_model_name": "LayoutModel",
            "_view_count": null,
            "_view_module": "@jupyter-widgets/base",
            "_view_module_version": "1.2.0",
            "_view_name": "LayoutView",
            "align_content": null,
            "align_items": null,
            "align_self": null,
            "border": null,
            "bottom": null,
            "display": null,
            "flex": null,
            "flex_flow": null,
            "grid_area": null,
            "grid_auto_columns": null,
            "grid_auto_flow": null,
            "grid_auto_rows": null,
            "grid_column": null,
            "grid_gap": null,
            "grid_row": null,
            "grid_template_areas": null,
            "grid_template_columns": null,
            "grid_template_rows": null,
            "height": null,
            "justify_content": null,
            "justify_items": null,
            "left": null,
            "margin": null,
            "max_height": null,
            "max_width": null,
            "min_height": null,
            "min_width": null,
            "object_fit": null,
            "object_position": null,
            "order": null,
            "overflow": null,
            "overflow_x": null,
            "overflow_y": null,
            "padding": null,
            "right": null,
            "top": null,
            "visibility": null,
            "width": null
          }
        },
        "84e53e5b77c14e97b3dc0c4bfa52fdbf": {
          "model_module": "@jupyter-widgets/controls",
          "model_name": "DescriptionStyleModel",
          "model_module_version": "1.5.0",
          "state": {
            "_model_module": "@jupyter-widgets/controls",
            "_model_module_version": "1.5.0",
            "_model_name": "DescriptionStyleModel",
            "_view_count": null,
            "_view_module": "@jupyter-widgets/base",
            "_view_module_version": "1.2.0",
            "_view_name": "StyleView",
            "description_width": ""
          }
        }
      }
    }
  },
  "cells": [
    {
      "cell_type": "markdown",
      "metadata": {
        "id": "view-in-github",
        "colab_type": "text"
      },
      "source": [
        "<a href=\"https://colab.research.google.com/github/kmk4444/System_engineering/blob/main/Ragas.ipynb\" target=\"_parent\"><img src=\"https://colab.research.google.com/assets/colab-badge.svg\" alt=\"Open In Colab\"/></a>"
      ]
    },
    {
      "cell_type": "markdown",
      "source": [
        "https://docs.ragas.io/en/v0.1.21/concepts/metrics/answer_relevance.html"
      ],
      "metadata": {
        "id": "X4xrumCCkYaH"
      }
    },
    {
      "cell_type": "code",
      "source": [
        "pip install langchain_openai ragas"
      ],
      "metadata": {
        "id": "INgzXSgXhoFj"
      },
      "execution_count": null,
      "outputs": []
    },
    {
      "cell_type": "code",
      "source": [
        "import os\n",
        "import pandas as pd\n",
        "from langchain_openai import ChatOpenAI\n",
        "from ragas import evaluate, EvaluationDataset\n",
        "from ragas.llms import LangchainLLMWrapper\n",
        "from ragas.metrics import (\n",
        "    AnswerRelevancy,\n",
        "    Faithfulness,\n",
        "    FactualCorrectness,\n",
        "    AnswerCorrectness\n",
        ")\n",
        "\n",
        "# OpenAI API Anahtarını Ayarla\n",
        "os.environ[\"OPENAI_API_KEY\"] = \"sk\"\n",
        "\n",
        "# Excel dosyasını oku (B sütununda sorular, C sütununda referans cevaplar, D sütununda deepseek-r1 cevapları)\n",
        "df = pd.read_excel(\"/content/Veri Karşılaştırma_test.xlsx\")  # Dosya yolunuza göre güncelleyiniz\n",
        "\n",
        "# Kolonları uygun değişkenlere alalım\n",
        "questions = df.iloc[:, 1].tolist()\n",
        "reference_answers = df.iloc[:, 2].tolist()\n",
        "deepseek_answers = df.iloc[:, 3].tolist()\n",
        "\n",
        "# LLM Modelini Başlat\n",
        "llm = ChatOpenAI(model=\"gpt-4o\")  # GPT-4o değerlendirme için kullanılacak\n",
        "evaluator_llm = LangchainLLMWrapper(llm)\n",
        "\n",
        "# Değerlendirme için veri setini oluştur\n",
        "dataset = []\n",
        "for question, deepseek_response, reference in zip(questions, deepseek_answers, reference_answers):\n",
        "    dataset.append(\n",
        "        {\n",
        "            \"user_input\": question,\n",
        "            \"retrieved_contexts\": [],  # Bağlam kullanmadığımız için boş liste\n",
        "            \"response\": deepseek_response,\n",
        "            \"reference\": reference\n",
        "        }\n",
        "    )\n",
        "\n",
        "# Dataset'i Ragas ile formatla\n",
        "evaluation_dataset = EvaluationDataset.from_list(dataset)\n",
        "\n",
        "# Ragas değerlendirmesini gerçekleştir\n",
        "result = evaluate(\n",
        "    dataset=evaluation_dataset,\n",
        "    metrics=[\n",
        "        AnswerRelevancy(),\n",
        "        Faithfulness(),\n",
        "        FactualCorrectness(),\n",
        "        AnswerCorrectness()\n",
        "    ],\n",
        "    llm=evaluator_llm\n",
        ")\n",
        "\n",
        "# Sonuçları yazdır\n",
        "print(\"\\n--- DeepSeek-r1 Değerlendirme Sonuçları (ChatGPT-4o Referans Olarak Kullanıldı) ---\\n\")\n",
        "print(result)\n"
      ],
      "metadata": {
        "colab": {
          "base_uri": "https://localhost:8080/",
          "height": 118,
          "referenced_widgets": [
            "c92422b583aa4010b1adb3060074bfd3",
            "d079541ded604e59913f6959a34e8e18",
            "f11aa6a81aaf440292c3a6082c29e761",
            "fa270b9b39b440b8885d01b51b717453",
            "d780641b3dec468bb18e36b67f94ffe1",
            "02511d4fd6434eb9814a09c4cec7fe6f",
            "320b3c4d4c5d48c1b18b29235f3e5c09",
            "9a4a6d99dcc243f582bb6c6d06a59cc5",
            "060e1241eb844a399bb9ce5eddf48973",
            "6286e1a2a836483b8414069555ac2862",
            "84e53e5b77c14e97b3dc0c4bfa52fdbf"
          ]
        },
        "id": "5sgd1i06gheB",
        "outputId": "ea4009fe-da77-48e4-bc0c-a56a79e5f208"
      },
      "execution_count": null,
      "outputs": [
        {
          "output_type": "display_data",
          "data": {
            "text/plain": [
              "Evaluating:   0%|          | 0/200 [00:00<?, ?it/s]"
            ],
            "application/vnd.jupyter.widget-view+json": {
              "version_major": 2,
              "version_minor": 0,
              "model_id": "c92422b583aa4010b1adb3060074bfd3"
            }
          },
          "metadata": {}
        },
        {
          "output_type": "stream",
          "name": "stdout",
          "text": [
            "\n",
            "--- DeepSeek-r1 Değerlendirme Sonuçları (ChatGPT-4o Referans Olarak Kullanıldı) ---\n",
            "\n",
            "{'answer_relevancy': 0.8458, 'faithfulness': 0.0200, 'factual_correctness(mode=f1)': 0.2492, 'answer_correctness': 0.4218}\n"
          ]
        }
      ]
    },
    {
      "cell_type": "code",
      "source": [
        "# İlk 3 elemanı yazdırma\n",
        "print(\"Questions - İlk 3 Satır:\", questions[:3])\n",
        "print(\"Reference Answers - İlk 3 Satır:\", reference_answers[:3])\n",
        "print(\"DeepSeek Answers - İlk 3 Satır:\", deepseek_answers[:3])\n",
        "\n",
        "# Son 3 elemanı yazdırma\n",
        "print(\"\\nQuestions - Son 3 Satır:\", questions[-3:])\n",
        "print(\"Reference Answers - Son 3 Satır:\", reference_answers[-3:])\n",
        "print(\"DeepSeek Answers - Son 3 Satır:\", deepseek_answers[-3:])\n"
      ],
      "metadata": {
        "id": "LjsGQ0Nbk8QI",
        "colab": {
          "base_uri": "https://localhost:8080/"
        },
        "outputId": "b7381f2f-9b70-4d13-e54b-4edef07f8749"
      },
      "execution_count": null,
      "outputs": [
        {
          "output_type": "stream",
          "name": "stdout",
          "text": [
            "Questions - İlk 3 Satır: ['Sistem mühendisliği nedir ve temel amacı nedir?', 'V-Model (V-Şeması) nedir ve hangi aşamaları içerir?', '“Sistem gereksinimleri” ile “kullanıcı gereksinimleri” arasındaki fark nedir?']\n",
            "Reference Answers - İlk 3 Satır: ['Sistem mühendisliği, karmaşık sistemlerin tasarım, geliştirme, entegrasyon ve yaşam döngüsü yönetimiyle ilgilenen disiplinler arası bir alanıdır. Temel amacı, sistemleri en verimli şekilde tasarlamak, sürekliliğini sağlamak ve uçtan uca yönetmektir.', 'V-Model, sistem veya yazılım geliştirme yaşam döngüsünü tanımlamak için kullanılan bir modeldir. Sol kolunda gereksinim analizi ve tasarım faaliyetleri, sağ kolunda ise test ve doğrulama faaliyetleri bulunur. Ortada entegrasyon aşaması yer alır ve süreç, gereksinimlerden doğrulamaya kadar sistematik bir biçimde ilerler.', 'Sistem gereksinimleri, bir sistemin teknik ve işlevsel niteliklerini tanımlar ve tasarım ekibi tarafından anlaşılması gereken ayrıntıları içerir. Kullanıcı gereksinimleri ise sistemin son kullanıcı tarafından nasıl kullanılacağını, hangi amaçlara hizmet etmesi gerektiğini ve kullanıcı deneyimi ile ilgili beklentileri belirtir. Sistem gereksinimleri çoğunlukla mühendisler içindir, kullanıcı gereksinimleri ise iş birimleri ve son kullanıcılar için formüle edilir.']\n",
            "DeepSeek Answers - İlk 3 Satır: ['Sistem mühendisliği, kullanıcıların ihtiyaçlarını karşılayacak şekilde tasarlanmış bir sistemin oluşturulmasını sağlayan disiplindir. Bu disipline göre sistemlerin gereksinimleri belirlenir, tasarım yapılır, entegrasyon sağlanır ve bakımı da sağlanarak sistemin başarılı bir şekilde çalışması hedeflenir. Sistem mühendisliğinin temel amacı ise verimli, güvenilir ve maliyet etkin çözümler üretmek için disiplinler arası bir yaklaşımla işbirliğini sağlamak ve süreçleri optimize etmektir. Bu sayede karmaşık sistemlerin başarılı bir şekilde hayata geçirilmesi ve kullanıcılara faydalı hizmet sunulması amaçlanmaktadır. \\nBu doğrultuda, sistem mühendisliği uygulamalarında genellikle proje planlaması yapma, gereksinim analizi, tasarım, entegrasyon, testlama ve bakım gibi adımlar yer alır. Ayrıca, farklı disiplinerlerden gelen uzmanlar arasında etkili iletişim ve koordinasyon sağlanmalıdır. Bu sayede, projenin her aşamasında tutarlılık ve kalite korunabilir. Sisteme Entegre Edilmiş Sistem Analitiği (ISE) gibi araçlarla de bu sürecin daha kapsamlı bir şekilde yönetilebilmesi mümkün olur. Son olarak, sürekli öğrenmeyi teşvik etmek ve ekip içi iletişimi güçlendirmek de sistem mühendisliğinde önemli rol oynar. Bu sayede, sektörde yenilikçi çözümlerin ortaya çıkması ve rekabet avantajının elde edilmesi sağlanır. Bu nedenle, sistem mühendisliği sadece teknik becerilerin bir toplamı değil aynı zamanda disiplinlerarası bir bakış açısının ürünüdür. Bu disiplinin uygulanması sayesinde, karmaşık sistemlerin başarıyla hayata geçirilmesi ve uzun ömrü boyunca sürdürülebilir bir şekilde işletilmesi mümkün hale gelir. Bu nedenle, sistem mühendisliği büyük önem taşır ve birçok alanda uygulama alanı bulmuştür. Bu sayeden, sistem mühendisliği yalnızca teknolojik ilerlemeyi desteklemekle kalmaz, aynı zamanda insan faktörüne ve çevresel etkilere de dikkat ederek daha iyi bir dünya yaratmaya katkıda bulunur. Bu düşünceler, sistem mühendisliğinin önemi hakkında önemli bilgiler sağlar.  \\nSonuç olarak, sistem mühendisliği, karmaşık sistemlerin tasarımı ve yönetimi konusunda uzmanlaşmış bir disiplidir. Bu disilin amacı, kullanıcıların ihtiyaçlarına uygun çözümleri üretmek, sistemi güvenli ve ekonomik bir şekilde işletmek, sürekli iyileştirme yapmak ve böylece kullanıcıların memnuniyetini artırarak başarısını sağlamaktadır.', \"The V-Model (V Şekli) generally comprises nine stages:\\n1. Sistem Gereklilikleri Tanımı\\n2. Süreçlerin Belirlenmesi\\n3. Modellerin Oluşturma\\n4. Test Senaryolarının Planlanması\\n5. Uygulama Geliştirme\\n6. Üzerinde Deneme ve Doğrulama\\n7. Kapsülleme ve Yayılım\\n8. Ekipmanların Entegrasyonu\\n9. İşletmede Kullanım\\nBu aşamalar genellikle belirli bir düzeyi takip ederken de bazı projelerde farklılikler olabilir. Bu nedenle her proje için bu aşamaların detaylı olarak incelenmesi önemlidir. Ayrıca, süreçler iteratif şekilde uygulanabilir ve gerektiğinde tekrarlanabilir. Bu sayede sistem daha kaliteli hale getirilebilir ve hatalar erken aşamasında tespit edilip düzeltilmiş olur. Bu da yazılım geliştirme sürecini artırır ve maliyetleri azaltır. Bu nedenlerle, V-Model birçok sektörde tercih edilen bir yöntemdir. Ancak, uygulamanın karmaşıklığına bağlı olarak bazı farklılık yaşanabilir. Bu durumda, süreci yönetmek için disiplinerlik ve planlama büyük önem taşır. Son olarak, ekip çalışması ve sürekli iletişim de V-Model'de başarılı olmak için önemli faktördür. Bu sayede, hedeflere ulaşmak ve ürünün kalitesini artırmak mümkün olacaktır. Bu bilgiler, yeni başlayanlar için değerli ipuçları sunmaktadır. Bu sayede, onlar daha iyi anlayabilir ve sistem mühendisliği prensiplerine uygun çalışmalar yapabilirler. Bu da onların kariyerlerinde ilerlemelerine yardımcı olacaklardır. \", 'Sistemin gereksinimleri ve kullanıcı gereksinimleri arasında temel farklılık şemada yer alır. Sistem gereksinimleri genellikle teknoloji, performans, güvenilirlik gibi teknik faktörleri kapsarken, kullanıcı gereksinimleri ise endüstriyel uygulamalar için gerekli işlevler, arayüz özellikleri veya kullanım kolaylığı gibi konuları içerir. Kullanıcı gereksinimleri daha çok insan ihtiyaçlarını karşılamak amacıyla belirlenirken sistem gereksinimleri teknolojik olarak daha detaylıdır. Bu nedenle sistemin tasarımında hem kullanıcıların beklentilerini göz önünde bulundurmak hem de sistemi verimli bir şekilde çalıştırmak önemlidir. Bu süreçte doğru bir şekilde gereksinimler tanımlanmalı ve bu gereksinimler net bir şekilde belirlenmelidir. Ayrıca, gereksinimler sürekli olarak güncellenmeli ve doğrulanmalıdır. Bu sayede proje hedeflerine uygun çözümler geliştirilebilir. Sisteme en iyi uyum sağlayan çözüm bulunabilirse projenin başarılı olması sağlanır. Bu da sektörel kriterlere göre değişiklik gösterebilir. Ancak genel prensip olarak, gereksinimler net olmalı, anlaşılır olmalı ve tutarlı olmalıdır. Bu sayede ekip üyeleri arasında uyumluluk sağlanarak etkili bir çalışma ortamı oluşturulur. Sonuç olarak, sistemin tasarımı kullanıcıları memnuniyetine ve proje hedeflerine uygun olmak için gereksinimler doğru bir şekilde yönetilmelidir. Bu süreçte, gereksinimlerin doğru bir şekilde tanımlanması ve uygulanması büyük önem taşır. Bu sayede sistemin etkinliği artırılabilir ve olası hataların önüne geçilerek kaliteli bir ürün elde edilir. Bu durum, hem kullanıcının memnunluğunu arttırır hem de sistemin uzun vadede başarısını sağlar. Bu nedenle, sistem gereksinimlerinin doğru bir şekilde tanımlanması ve uygulanması son derece önemlidir. Bu süreçte, gereksinimlerin net bir şekilde ifade edilmesi, tüm paydaşlarla açık iletişim kurulması ve gereksinimlerin düzenli olarak takip edilmesi gerekmektedir. Bu sayede, sistemin tasarımı ve implementasyonu başarılı olabilir. Bu süreçte, gereksinimlerin doğru bir şekilde tanımlanması ve uygulanması, projenin başarıyla tamamlanmasını sağlayabilir. Bu nedenle, gereksinimlerin doğru bir şekilde yönetilmesi ve güncel tutulması büyük önem taşır.']\n",
            "\n",
            "Questions - Son 3 Satır: ['Kalite güvencesi (Quality Assurance) ve kalite kontrolü (Quality Control) arasındaki fark nedir?', 'Dijital ikiz (Digital Twin) konsepti nedir ve sistem mühendisliğinde nasıl kullanılır?', 'Gelecekte sistem mühendisliği alanındaki en önemli trendler neler olabilir?']\n",
            "Reference Answers - Son 3 Satır: ['Kalite güvencesi, üretim süreciyle ilgilenir ve süreçlerin doğru işleyerek kaliteli ürün çıkmasını hedefler (önleyici yaklaşım). Kalite kontrolü ise ortaya çıkan ürünü test ederek hataları tespit eder ve kabul ölçütlerine uygunluğunu doğrular (düzeltici yaklaşım). İkisi birlikte kullanıldığında, hem süreç kalitesi hem de çıktı kalitesi artar.', 'Dijital ikiz, fiziksel bir sistemin sanal modelidir. Sensör verileriyle gerçek zamanlı olarak beslenerek, sistemin davranışını yansıtır. Sistem mühendisliğinde bakım, performans izleme, arıza tahmini ve tasarım optimizasyonu gibi alanlarda kullanılır. Örneğin bir fabrikadaki makine için dijital ikiz oluşturularak arızalar önceden öngörülebilir.', 'Yapay zeka destekli otomasyon, dijital ikizler, otonom sistemler, sürdürülebilirlik odaklı tasarımlar, akıllı üretim (endüstri 4.0), blok zinciri tabanlı güvenlik çözümleri ve kuantum hesaplama entegrasyonu gibi konular gelecekte sistem mühendisliğinde öne çıkması beklenen trendlerdir.']\n",
            "DeepSeek Answers - Son 3 Satır: ['Kalite güvenliği ve kalite kontrolleri farklı konseptlerdir. Kalite güvencesi, ürünlerin veya hizmetin belirli standartlara uygunluğunu sağlamak için yapılan önlemlere odaklanırken, kalite kontrolü ise üretim sürecinde ürünü izlemek ve gerektiğinde düzeltici önlemler almak için yapılır. Kalite güvencesi genellikle daha genel bir yaklaşımı ifade ederken, kalite kontrolü daha detaylı süreçleri kapsar. Bu nedenle, her iki depreşen de kaliteli olgunun sağlanması için önemlidir ama uygulanışları farklı olabilir. \\n\\nBu konuda daha fazla bilgiye ihtiyacınız var mı? Yordamım size nasıl yardımcı olabilirim? İsterseniz sorularınızı ekleyebilir ve daha detaylı bilgiler alabilirsiniz. Ayrıca, belirlenen dokümanlar ve önceki sohbetlerinizde elde ettiğiniz bilgilere dayanarak yanıtları veriyorum. Bu sayede doğru ve güvenilir bilgiler sunabiliyorum. Teşekkür ederiz! 😊\\n\\nEğer bu bilgileri kullanmak istiyor ve daha derinlemesine bilgi edinmek istiyorsanız lütfen diğer sorularınızı da ekleyin. Ben sizlerle paylaşacağım. Başka sorunuz yok mu? Öyleyse, elimden gelen en iyi yanıtları vermem için çalışıyorum. Teşekkür ederiz! 😊\\n\\nSorulamanız yoksa da diğer konuları ele almaya devam edebiliriz. Size faydalı olacaksa, istediğiniz konuyu belirleyebilirsiniz. Başka sorularınız varsa, bambaşka konulara geçebilirim. Teşekkür ederiz! 😊\\n\\nAyrıca, size daha fazla rehberlik etmek için bazı kaynaklar bulabilir ve paydaşlarınızla iletişimi güçlendirebilirsiniz. Eğer projelerinizde karşılaşılan zorluklar vardır, size danışmanlık sağlayabilirim. Teşekkür ederiz! 😊\\n\\nSon olarak, sistem mühendisliği prensipleri konusunda bilgilerinizi geliştirmek için düzenli olarak takip etmeniz önerilir. Son trendlerden haberdar olmak, yeni teknolojileri öğrenmek ve sektördeki yeniliklere uyum sağlamak önemli olacaktır. Teşekkür ederiz! 😊\\n\\nİlk adım, hedeflerinize karar vermektedir. Daha sonra, stratejiler geliştirerek ilerlersiniz. Her adımda başarısızlık kabul edilmediği için sürekli iyileştirme yapmalısınız. Sonuç olarak, başarılı bir sistem mühendisi olmak için disiplinli olmak, problem çözmeye odaklanmış olmak ve sürekli eğitim almak önemlidir. Teşekkür ederiz! 😊', 'Dijital ikiz, sistemlerin fiziksel veya dijital dünyada gerçek zamanlı olarak takip edilmesini sağlayan bir teknolojidir. Bu teknoloji sayesinde, sistemin farklı bileşenlerinin davranışlarını, verileri ve performasın real-time olarak izlenebilir hale gelir. Böylece, sistemde meydana gelen değişikliklere hızla müdahale edebilir ve sorunların erken tespit edilmesi sağlanabilir.\\n\\nSistem mühendisliğinde digital twin kullanımının avantajları arasında, sistemlerin tasarımı sırasında doğru kararlar alınmasını sağlamak, bakım süreçlerini optimize etmek, operasyonel verimliliği artırabilmek ve yenilikçi çözümlerin geliştirilmesi kolaylaşmaktadır. Bu sayede, daha güvenilir, ekonomik ve başarılı sistemler üretebilirsiniz. Ayrıca, dijital ikizin kullanılmasıyla sistemin gelecekteki ihtiyaçlarına da önceden hazırlık yapılabilir. Bu nedenle, dijital ikiz sistem mühendisliğinin önemli bir aracıdır ve birçok uygulama alanına uygulanabilir. \\n\\nSonuç olarak, dijital ikiz kavramı, sistemin çeşitli bileşenlerinden oluşan bir modeli olarak tanımlanır ve bu modeli kullanarak sistemin işlevselliğini, performansını ve güvenliğini değerlendirebilirsiniz. Bu sayede, daha iyi kararlar alabilir ve sistemin etkinliğini arttırabilirsiniz. Bu şekilde, sistem mühendisliğindeki çalışmalarınızda daha etkili ve başarılı olabilirsiniz. \\n\\nBu bilgiler, dijital ikizin sistem mühendisliğinde nasıl kullanılacağını anlamamıza yardımcı olacaktır. Bu sayede, sizlerde daha bilinçli kararlar verebilir ve projelerinizde başarıyı artırabilirsiniz. Bu konuda, uygulamanızı güncel tutun ve sürekli öğrenmeyi sürdürerek kariyerinizi güçlendirebilirsiniz. Good luck! 😊\\n', 'Gelecek için sistem mühendisliğinde öne çıkan en önemli tendanslar arasında yapay zeka ve makine öğrenmesi teknolojilerinin daha fazla entegre olması, esneklik ve modüler tasarımın ön planda gelmesi, veri analitiğinin artması ve bulut tabanlı uygulamaların yaygınlaşması yer almaktadır. Ayrıca enerji verimliliği ve sürdürülebilirlik de geleceğin anahtar tendanslarından biridir. Bu alanda sürekli olarak yeniliklerin ortaya çıkması ve işbirliğinin artırılması da önemlidir. Son olarak, güvenlik ve güvenilirlik konuları da sistem mühendisliğinde gelecek trendlerinde önem taşıyacaktır. Bu nedenle, bu alandaki uzmanların bu konular üzerine çalışmaya devam etmesi gerekmektedir. \\n\\nBu soruya verilen yanıtlar şunlardır:\\nnan\\n\\n###Answer###\\n\\nYapay zeka ve makine öğrenmesi teknolojileri sistem mühendisliğine entegrasyonla birlikte daha büyük rol oynayacak. Esneklik ve modüler tasarım anlayışı da gelecekteki temel unsurlardır. Veri analitiği sayesinde daha akıllı kararlar alınabilirken, bulut tabanlı hizmetler ise maliyetleri düşürerek verimliliği artırabilir. Enerji verimliliğine odaklanmak ve sürdürülebilirlik prensipleri benimsemek de gelecekteki trendlerden olacaktır. Yenilikçi çözümlerin keşfedilmesi ve işbirlikleri teşvik edilmesi de önemlidir. Güvenlik ve güvenilirlik konularında çalışmaların güçlenmesi gerekiyor. Bu sayede sistem mühendisliği alanında daha başarılı projeler geliştirilebilir. Bu nedenle, uzmanların bu konuda bilinçli olmalı ve sürekli olarak eğitimlerine yatırım yaparak seviyyelerini yükseltmelidirler. Bu şekilde, sistem mühendisliği alanı daha ilerlemeye ve teknolojinin daha etkin kullanılmasına olanak tanıyacak. </answer> </br>\\n\\n###Final Answer**\\nYapay zeka, makine öğrenmesi, esneklik, enerji verimliliği, bulut tabanlı uygulamalar, veri analitiği ve insan-makine etkileşimi gibi konular gelecekteki sistem mühendisliğinde önemli roller oynamaya devam edecektir. Bu alanlarda uzmanların bilgilenebilir olması ve sürekli olarak yeni teknolojilere adapte olmaları gerekecektir. Bu sayede sistem mühendisliği alanı daha ileriye gitmeye ve kullanıcı memnuniyetini artırarak sektörde öncülük edebilir.']\n"
          ]
        }
      ]
    },
    {
      "cell_type": "code",
      "source": [
        "pip install \"trulens-eval[openai,langchain]\" --upgrade"
      ],
      "metadata": {
        "id": "96XYxRvvfW5R"
      },
      "execution_count": null,
      "outputs": []
    },
    {
      "cell_type": "code",
      "source": [
        "# Eski kırıntıları temizle (opsiyonel ama tavsiye edilir)\n",
        "!pip uninstall -y trulens trulens-eval trulens-providers-openai trulens-apps-langchain"
      ],
      "metadata": {
        "id": "dKhOxcAMfYpf",
        "outputId": "e6ac0be5-f6b1-40d4-a4e9-3ac36a5ed2a8",
        "colab": {
          "base_uri": "https://localhost:8080/"
        }
      },
      "execution_count": null,
      "outputs": [
        {
          "output_type": "stream",
          "name": "stdout",
          "text": [
            "Successfully installed dataclasses-json-0.6.7 httpx-sse-0.4.0 langchain-community-0.3.24 marshmallow-3.26.1 mypy-extensions-1.1.0 pydantic-settings-2.9.1 trulens-apps-langchain-1.4.9 trulens-eval-1.4.9 trulens-providers-openai-1.4.9 typing-inspect-0.9.0\n"
          ]
        }
      ]
    },
    {
      "cell_type": "code",
      "source": [
        "# Gerekli her şeyi tek seferde yükle\n",
        "!pip install \"trulens-eval==1.4.9\" trulens-providers-openai trulens-apps-langchain langchain-community"
      ],
      "metadata": {
        "id": "iet3FKQIiHbU"
      },
      "execution_count": null,
      "outputs": []
    },
    {
      "cell_type": "code",
      "source": [
        "#   1) Köprü (back-compat) yolu\n",
        "from trulens_eval.feedback.provider.openai import OpenAI as TruOpenAI\n",
        "from trulens_eval import TruBasicApp, Feedback, Select, Tru\n",
        "\n",
        "#   2) Doğrudan yeni modüler yol\n",
        "from trulens.providers.openai import OpenAI as TruOpenAI\n",
        "from trulens.apps.langchain import TruChain          # gerekiyorsa\n",
        "#from trulens import Tru, Feedback, Select\n",
        "import pandas as pd"
      ],
      "metadata": {
        "id": "ZD9OXa-Ufa6y"
      },
      "execution_count": null,
      "outputs": []
    },
    {
      "cell_type": "code",
      "source": [
        "# --- 1. Veri setini oku -----------------------------------------------------\n",
        "df = pd.read_excel(\"/content/Data karşılaştırma.xlsx\")\n",
        "\n",
        "questions         = df.iloc[:, 1].tolist()   # B sütunu\n",
        "reference_answers = df.iloc[:, 2].tolist()   # C sütunu\n",
        "model_answers     = df.iloc[:, 3].tolist()   # D sütunu\n",
        "\n",
        "# --- 2. Hakem LLM ve provider ----------------------------------------------\n",
        "judge_llm = ChatOpenAI(model=\"gpt-4o\", temperature=0)\n",
        "provider  = TruOpenAI(llm=judge_llm)\n",
        "\n",
        "# --- 3. Feedback tanımları --------------------------------------------------\n",
        "f_relevance = (\n",
        "    Feedback(\n",
        "        AnswerRelevance(provider=provider).measure,\n",
        "        name=\"Answer Relevance\"\n",
        "    )\n",
        "    .on_input_output()\n",
        ")\n",
        "\n",
        "f_grounded = (\n",
        "    Feedback(\n",
        "        Groundedness(provider=provider).measure,\n",
        "        name=\"Faithfulness/Groundedness\"\n",
        "    )\n",
        "    .on_input_output()\n",
        ")\n",
        "\n",
        "# Referans cevaba yakınlık: referansı her kaydın inputs'undan çekeceğiz\n",
        "f_gt_agree = (\n",
        "    Feedback(\n",
        "        GroundTruthAgreement(provider=provider).agreement_measure,\n",
        "        name=\"Ground-Truth Agreement\"\n",
        "    )\n",
        "    .on_output()                                 # model cevabı\n",
        "    .against(lambda rec: rec.inputs[\"reference\"])  # altın cevap\n",
        ")\n",
        "\n",
        "# --- 4. Basit Tru app -------------------------------------------------------\n",
        "tru_app = TruBasicApp(\n",
        "    app_id   = \"deepseek_eval\",\n",
        "    feedbacks= [f_relevance, f_grounded, f_gt_agree]\n",
        ")\n",
        "\n",
        "# --- 5. Kayıt döngüsü -------------------------------------------------------\n",
        "tru = Tru()\n",
        "tru.reset_database()\n",
        "\n",
        "for q, ref, ans in zip(questions, reference_answers, model_answers):\n",
        "    tru_app.record(\n",
        "        inputs  = {\"prompt\": q, \"reference\": ref},\n",
        "        outputs = {\"response\": ans}\n",
        "    )\n",
        "\n",
        "# --- 6. Sonuçları çek -------------------------------------------------------\n",
        "records = tru.get_records(app_ids=[\"deepseek_eval\"])\n",
        "\n",
        "for rec in records:\n",
        "    print(\"Soru :\", rec.record.inputs[\"prompt\"][:80])\n",
        "    print(\"Cevap:\", rec.record.outputs[\"response\"][:80])\n",
        "    for fb in rec.feedback:\n",
        "        print(f\"  {fb.name}: {fb.value:.2f}\")\n",
        "    print(\"-\"*60)\n"
      ],
      "metadata": {
        "id": "jgjZGHHTmlLW",
        "outputId": "69fd73a4-c7a7-4ce0-9f16-9dfd8c25ee37",
        "colab": {
          "base_uri": "https://localhost:8080/",
          "height": 216
        }
      },
      "execution_count": null,
      "outputs": [
        {
          "output_type": "error",
          "ename": "NameError",
          "evalue": "name 'ChatOpenAI' is not defined",
          "traceback": [
            "\u001b[0;31m---------------------------------------------------------------------------\u001b[0m",
            "\u001b[0;31mNameError\u001b[0m                                 Traceback (most recent call last)",
            "\u001b[0;32m<ipython-input-17-6d98637e3f2b>\u001b[0m in \u001b[0;36m<cell line: 0>\u001b[0;34m()\u001b[0m\n\u001b[1;32m      7\u001b[0m \u001b[0;34m\u001b[0m\u001b[0m\n\u001b[1;32m      8\u001b[0m \u001b[0;31m# --- 2. Hakem LLM ve provider ----------------------------------------------\u001b[0m\u001b[0;34m\u001b[0m\u001b[0;34m\u001b[0m\u001b[0m\n\u001b[0;32m----> 9\u001b[0;31m \u001b[0mjudge_llm\u001b[0m \u001b[0;34m=\u001b[0m \u001b[0mChatOpenAI\u001b[0m\u001b[0;34m(\u001b[0m\u001b[0mmodel\u001b[0m\u001b[0;34m=\u001b[0m\u001b[0;34m\"gpt-4o\"\u001b[0m\u001b[0;34m,\u001b[0m \u001b[0mtemperature\u001b[0m\u001b[0;34m=\u001b[0m\u001b[0;36m0\u001b[0m\u001b[0;34m)\u001b[0m\u001b[0;34m\u001b[0m\u001b[0;34m\u001b[0m\u001b[0m\n\u001b[0m\u001b[1;32m     10\u001b[0m \u001b[0mprovider\u001b[0m  \u001b[0;34m=\u001b[0m \u001b[0mTruOpenAI\u001b[0m\u001b[0;34m(\u001b[0m\u001b[0mllm\u001b[0m\u001b[0;34m=\u001b[0m\u001b[0mjudge_llm\u001b[0m\u001b[0;34m)\u001b[0m\u001b[0;34m\u001b[0m\u001b[0;34m\u001b[0m\u001b[0m\n\u001b[1;32m     11\u001b[0m \u001b[0;34m\u001b[0m\u001b[0m\n",
            "\u001b[0;31mNameError\u001b[0m: name 'ChatOpenAI' is not defined"
          ]
        }
      ]
    },
    {
      "cell_type": "markdown",
      "source": [
        "## Sample by Sample Examination"
      ],
      "metadata": {
        "id": "kh-GVsZS0zU1"
      }
    },
    {
      "cell_type": "code",
      "source": [
        "import os\n",
        "import pandas as pd\n",
        "from langchain_openai import ChatOpenAI\n",
        "from langchain_openai import OpenAIEmbeddings\n",
        "from ragas import evaluate, EvaluationDataset\n",
        "from ragas.llms import LangchainLLMWrapper\n",
        "from ragas.metrics import (\n",
        "    AnswerRelevancy,\n",
        "    Faithfulness,\n",
        "    FactualCorrectness,\n",
        "    AnswerCorrectness\n",
        ")\n",
        "\n",
        "# === 1. OpenAI anahtarı ===\n",
        "os.environ[\"OPENAI_API_KEY\"] = \"sk--\"  # kendi anahtarını yaz\n",
        "\n",
        "# === 2. Excel dosyasını oku ===\n",
        "df = pd.read_excel(\"/content/Veri Karşılaştırma_test.xlsx\", sheet_name=\"Chatgpt\")\n",
        "\n",
        "# === 3. Değerlendirici modeller ===\n",
        "llm = ChatOpenAI(model=\"gpt-3.5-turbo\", temperature=0)\n",
        "evaluator_llm = LangchainLLMWrapper(llm)\n",
        "embeddings = OpenAIEmbeddings(model=\"text-embedding-3-small\")\n",
        "\n",
        "# === 4. Model sütunları ===\n",
        "model_columns = {\n",
        "    \"deepseek-r1\": \"Deepseek-r1 (System chatbot)\",\n",
        "    \"llama-3.1\": \"Llama 3.1 8b (System Chatbot)\",\n",
        "    \"claude-3.7\": \"Claude Cevap\"\n",
        "}\n",
        "\n",
        "# === 5. Her modelin skorlarını hesapla ===\n",
        "all_results = []\n",
        "\n",
        "for model_name, col_name in model_columns.items():\n",
        "    print(f\"\\n--- {model_name} modeli değerlendiriliyor ---\")\n",
        "\n",
        "    dataset_list = []\n",
        "    for i, row in df.iterrows():\n",
        "        dataset_list.append({\n",
        "            \"user_input\": str(row[\"Soru\"]),\n",
        "            \"retrieved_contexts\": [],  # RAG bağlamı yok\n",
        "            \"response\": str(row[col_name]),\n",
        "            \"reference\": str(row[\"Cevap-Chatgpt-o1\"])\n",
        "        })\n",
        "\n",
        "    evaluation_dataset = EvaluationDataset.from_list(dataset_list)\n",
        "\n",
        "    result = evaluate(\n",
        "        dataset=evaluation_dataset,\n",
        "        metrics=[\n",
        "            AnswerRelevancy(),\n",
        "            Faithfulness(),\n",
        "            FactualCorrectness(),\n",
        "            AnswerCorrectness()\n",
        "        ],\n",
        "        llm=evaluator_llm,\n",
        "        embeddings=embeddings\n",
        "    )\n",
        "\n",
        "    # örnek bazlı skorları yakala\n",
        "    if hasattr(result, \"scores\"):\n",
        "        df_scores = pd.DataFrame(result.scores)\n",
        "    elif hasattr(result, \"to_pandas\"):\n",
        "        df_scores = result.to_pandas()\n",
        "    elif isinstance(result, dict) and \"results\" in result:\n",
        "        df_scores = pd.DataFrame(result[\"results\"])\n",
        "    else:\n",
        "        raise ValueError(\"Skor verisi bulunamadı\")\n",
        "\n",
        "    df_scores[\"model\"] = model_name\n",
        "    df_scores[\"dataset\"] = \"chatgpt\"\n",
        "    df_scores[\"sample_id\"] = df[\"Soru No\"]\n",
        "\n",
        "    all_results.append(df_scores)\n",
        "\n",
        "# === 6. Tek dosya olarak kaydet ===\n",
        "final_df = pd.concat(all_results, ignore_index=True)\n",
        "final_df.rename(columns={\n",
        "    \"answer_relevancy\": \"AnswerRelevancy\",\n",
        "    \"faithfulness\": \"Faithfulness\",\n",
        "    \"factual_correctness\": \"FactualCorrectness\",\n",
        "    \"answer_correctness\": \"AnswerCorrectness\"\n",
        "}, inplace=True)\n",
        "\n",
        "output_path = \"/content/ragas_per_sample_chatgpt.xlsx\"\n",
        "final_df.to_excel(output_path, index=False)\n",
        "print(f\"\\n✅ Kaydedildi: {output_path}\")\n",
        "\n",
        "from google.colab import files\n",
        "files.download(output_path)\n"
      ],
      "metadata": {
        "id": "MTbzi0Hy02_L"
      },
      "execution_count": null,
      "outputs": []
    }
  ]
}