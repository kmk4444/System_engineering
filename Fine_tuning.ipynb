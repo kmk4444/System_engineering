{
  "nbformat": 4,
  "nbformat_minor": 0,
  "metadata": {
    "colab": {
      "provenance": [],
      "authorship_tag": "ABX9TyNc5K5KizN8ZzadRtxdOHvr",
      "include_colab_link": true
    },
    "kernelspec": {
      "name": "python3",
      "display_name": "Python 3"
    },
    "language_info": {
      "name": "python"
    }
  },
  "cells": [
    {
      "cell_type": "markdown",
      "metadata": {
        "id": "view-in-github",
        "colab_type": "text"
      },
      "source": [
        "<a href=\"https://colab.research.google.com/github/kmk4444/System_engineering/blob/main/Fine_tuning.ipynb\" target=\"_parent\"><img src=\"https://colab.research.google.com/assets/colab-badge.svg\" alt=\"Open In Colab\"/></a>"
      ]
    },
    {
      "cell_type": "code",
      "source": [
        "!pip install openai"
      ],
      "metadata": {
        "id": "sS1jLlO24N21"
      },
      "execution_count": null,
      "outputs": []
    },
    {
      "cell_type": "code",
      "source": [
        "import csv\n",
        "from openai import OpenAI\n",
        "import time\n",
        "import os\n",
        "import random\n",
        "import re\n",
        "\n",
        "# OpenAI API anahtarınızı güvenli bir şekilde kullanmak için ortam değişkenlerini kullanın\n",
        "client = OpenAI(\n",
        "    # This is the default and can be omitted\n",
        "    api_key='sk-proj-',\n",
        ")\n",
        "\n",
        "konular = [\n",
        "\n",
        "]\n",
        "\n",
        "soru_kaliplari = [\n",
        "\n",
        "]\n",
        "\n",
        "\n",
        "def generate_answer(question):\n",
        "    try:\n",
        "        response = client.chat.completions.create(\n",
        "            model='gpt-3.5-turbo',\n",
        "            messages=[\n",
        "                {\"role\": \"system\", \"content\": \"Sen bir mühendislik uzmanısın ve sorulara detaylı ve anlaşılır cevaplar veriyorsun. Maksimum 500 token cevap verebilirsin. Bu kapsamda cümleleri yarım bıracak şekilde cevap verme.\"},\n",
        "                {\"role\": \"user\", \"content\": question}\n",
        "            ],\n",
        "            max_tokens=500,\n",
        "            n=1,\n",
        "            stop=None,\n",
        "            temperature=0.7,\n",
        "        )\n",
        "        answer = response.choices[0].message.content.strip()\n",
        "        return answer\n",
        "    except Exception as e:\n",
        "        print(f\"Bir hata oluştu: {e}\")\n",
        "        return \"\"\n",
        "\n",
        "# Cümleler arasındaki boşlukları kaldıran fonksiyon\n",
        "def remove_spaces_between_sentences(text):\n",
        "    # Nokta, ünlem veya soru işaretinden sonra gelen boşlukları kaldırır\n",
        "    return re.sub(r'(?<=[.!?])\\s+:', '', text)\n",
        "\n",
        "with open('dataset.csv', 'w', encoding='utf-8-sig', newline='') as csvfile:\n",
        "    fieldnames = ['instruction', 'input', 'output']\n",
        "    writer = csv.DictWriter(csvfile, fieldnames=fieldnames, delimiter=';', quoting=csv.QUOTE_ALL)\n",
        "    writer.writeheader()\n",
        "    for konu1 in konular:\n",
        "        for soru_kalibi in soru_kaliplari:\n",
        "            if '{1}' in soru_kalibi:\n",
        "                # İkinci bir konu seçiyoruz\n",
        "                konu2 = random.choice(konular)\n",
        "                while konu2 == konu1:\n",
        "                    konu2 = random.choice(konular)\n",
        "                instruction = soru_kalibi.format(konu1, konu2)\n",
        "            else:\n",
        "                instruction = soru_kalibi.format(konu1)\n",
        "            output = generate_answer(instruction)\n",
        "            # Cevabı işliyoruz\n",
        "            output = remove_spaces_between_sentences(output)\n",
        "            writer.writerow({'instruction': instruction, 'input': '', 'output': output})\n",
        "            time.sleep(1)  # API hız sınırlarını aşmamak için bekleme süresi ekleyin\n",
        "\n",
        "print(\"Veri seti oluşturuldu.\")\n"
      ],
      "metadata": {
        "id": "bF4loLrv7Nw7"
      },
      "execution_count": null,
      "outputs": []
    },
    {
      "cell_type": "code",
      "source": [],
      "metadata": {
        "id": "Fj7DfCvbC5aF"
      },
      "execution_count": null,
      "outputs": []
    },
    {
      "cell_type": "code",
      "source": [],
      "metadata": {
        "id": "THMvsvW5il5-"
      },
      "execution_count": null,
      "outputs": []
    },
    {
      "cell_type": "code",
      "source": [
        "len(soru_kaliplari)"
      ],
      "metadata": {
        "id": "OQAL6Mh2im3v",
        "outputId": "bf01f1cd-2da6-49f8-c3de-dadceb55ebdf",
        "colab": {
          "base_uri": "https://localhost:8080/"
        }
      },
      "execution_count": null,
      "outputs": [
        {
          "output_type": "execute_result",
          "data": {
            "text/plain": [
              "214"
            ]
          },
          "metadata": {},
          "execution_count": 4
        }
      ]
    }
  ]
}